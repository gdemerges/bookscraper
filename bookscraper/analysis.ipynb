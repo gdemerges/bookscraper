{
 "cells": [
  {
   "cell_type": "code",
   "execution_count": null,
   "metadata": {},
   "outputs": [],
   "source": [
    "import psycopg2\n",
    "import pandas as pd\n",
    "\n",
    "# Configuration de la connexion\n",
    "conn = psycopg2.connect(\n",
    "    host=\"localhost\",\n",
    "    port=\"5433\",\n",
    "    user=\"guillaumedemerges\",\n",
    "    password=\"\",\n",
    "    dbname=\"bookscraper\"\n",
    ")\n",
    "\n",
    "# Vérification de la connexion\n",
    "cur = conn.cursor()\n",
    "cur.execute(\"SELECT version();\")\n",
    "db_version = cur.fetchone()\n",
    "print(f\"Connected to database:\\n{db_version[0]}\")\n",
    "cur.close()"
   ]
  },
  {
   "cell_type": "code",
   "execution_count": null,
   "metadata": {},
   "outputs": [],
   "source": [
    "query = \"SELECT * FROM books;\"\n",
    "df_books = pd.read_sql(query, conn)\n",
    "\n",
    "print(df_books.head())"
   ]
  },
  {
   "cell_type": "code",
   "execution_count": null,
   "metadata": {},
   "outputs": [],
   "source": [
    "import matplotlib.pyplot as plt\n",
    "\n",
    "plt.figure(figsize=(10, 6))\n",
    "plt.hist(df_books['price'], bins=20, color='purple', edgecolor='black')\n",
    "plt.xlabel('Price (£)')\n",
    "plt.ylabel('Number of Books')\n",
    "plt.title('Distribution of Book Prices')\n",
    "plt.show()"
   ]
  },
  {
   "cell_type": "code",
   "execution_count": null,
   "metadata": {},
   "outputs": [],
   "source": [
    "plt.figure(figsize=(12, 8))\n",
    "df_books_per_category = df_books['category'].value_counts()\n",
    "df_books_per_category.plot(kind='bar', color='lightblue')\n",
    "plt.xlabel('Category')\n",
    "plt.ylabel('Number of Books')\n",
    "plt.title('Number of Books per Category')\n",
    "plt.xticks(rotation=90)\n",
    "plt.show()"
   ]
  },
  {
   "cell_type": "code",
   "execution_count": null,
   "metadata": {},
   "outputs": [],
   "source": [
    "plt.figure(figsize=(12, 8))\n",
    "df_avg_price_per_category = df_books.groupby('category')['price'].mean().sort_values(ascending=False)\n",
    "df_avg_price_per_category.plot(kind='bar', color='pink')\n",
    "plt.xlabel('Category')\n",
    "plt.ylabel('Average Price (£)')\n",
    "plt.title('Average Price by Category')\n",
    "plt.xticks(rotation=90)\n",
    "plt.show()"
   ]
  },
  {
   "cell_type": "code",
   "execution_count": null,
   "metadata": {},
   "outputs": [],
   "source": [
    "plt.figure(figsize=(10, 6))\n",
    "df_ratings_distribution = df_books['rating'].value_counts()\n",
    "df_ratings_distribution.plot(kind='bar', color='orange')\n",
    "plt.xlabel('Rating')\n",
    "plt.ylabel('Number of Books')\n",
    "plt.title('Distribution of Book Ratings')\n",
    "plt.show()"
   ]
  },
  {
   "cell_type": "code",
   "execution_count": null,
   "metadata": {},
   "outputs": [],
   "source": [
    "plt.figure(figsize=(12, 8))\n",
    "df_total_stock_per_category = df_books.groupby('category')['stock'].sum().sort_values(ascending=False)\n",
    "df_total_stock_per_category.plot(kind='bar', color='teal')\n",
    "plt.xlabel('Category')\n",
    "plt.ylabel('Total Stock')\n",
    "plt.title('Total Stock by Category')\n",
    "plt.xticks(rotation=90)\n",
    "plt.show()"
   ]
  },
  {
   "cell_type": "code",
   "execution_count": null,
   "metadata": {},
   "outputs": [],
   "source": [
    "import seaborn as sns\n",
    "\n",
    "plt.figure(figsize=(12, 8))\n",
    "sns.boxplot(data=df_books, x='category', y='price')\n",
    "plt.xlabel('Category')\n",
    "plt.ylabel('Price (£)')\n",
    "plt.title('Boxplot of Book Prices by Category')\n",
    "plt.xticks(rotation=90)\n",
    "plt.show()"
   ]
  },
  {
   "cell_type": "code",
   "execution_count": null,
   "metadata": {},
   "outputs": [],
   "source": [
    "plt.figure(figsize=(10, 6))\n",
    "plt.scatter(df_books['price'], df_books['stock'], alpha=0.5, color='green')\n",
    "plt.xlabel('Price (£)')\n",
    "plt.ylabel('Stock')\n",
    "plt.title('Price vs. Stock')\n",
    "plt.show()"
   ]
  },
  {
   "cell_type": "code",
   "execution_count": null,
   "metadata": {},
   "outputs": [],
   "source": [
    "import seaborn as sns\n",
    "\n",
    "plt.figure(figsize=(10, 8))\n",
    "corr = df_books.corr()\n",
    "sns.heatmap(corr, annot=True, cmap='coolwarm', center=0)\n",
    "plt.title('Correlation Matrix')\n",
    "plt.show()"
   ]
  },
  {
   "cell_type": "code",
   "execution_count": null,
   "metadata": {},
   "outputs": [],
   "source": []
  }
 ],
 "metadata": {
  "kernelspec": {
   "display_name": "lewagon",
   "language": "python",
   "name": "python3"
  },
  "language_info": {
   "codemirror_mode": {
    "name": "ipython",
    "version": 3
   },
   "file_extension": ".py",
   "mimetype": "text/x-python",
   "name": "python",
   "nbconvert_exporter": "python",
   "pygments_lexer": "ipython3",
   "version": "3.10.6"
  }
 },
 "nbformat": 4,
 "nbformat_minor": 2
}
