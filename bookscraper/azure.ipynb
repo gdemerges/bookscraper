{
 "cells": [
  {
   "cell_type": "code",
   "execution_count": 6,
   "metadata": {},
   "outputs": [
    {
     "name": "stdout",
     "output_type": "stream",
     "text": [
      "Vous êtes connecté à - ('PostgreSQL 16.3 on x86_64-pc-linux-gnu, compiled by gcc (GCC) 11.2.0, 64-bit',)\n",
      "\n"
     ]
    }
   ],
   "source": [
    "import psycopg2\n",
    "\n",
    "hostname = 'dem-gui-postgre1.postgres.database.azure.com'\n",
    "database = 'bookscraper'\n",
    "username = 'gdemerges'\n",
    "password = 'c_}nsG6xr~Zhu\"P'\n",
    "port = 5432\n",
    "\n",
    "conn = psycopg2.connect(\n",
    "    host=hostname,\n",
    "    database=database,\n",
    "    user=username,\n",
    "    password=password,\n",
    "    port=port\n",
    ")\n",
    "\n",
    "cur = conn.cursor()\n",
    "cur.execute(\"SELECT version();\")\n",
    "record = cur.fetchone()\n",
    "print(f\"Vous êtes connecté à - {record}\\n\")\n",
    "cur.close()\n",
    "conn.close()\n"
   ]
  }
 ],
 "metadata": {
  "kernelspec": {
   "display_name": "lewagon",
   "language": "python",
   "name": "python3"
  },
  "language_info": {
   "codemirror_mode": {
    "name": "ipython",
    "version": 3
   },
   "file_extension": ".py",
   "mimetype": "text/x-python",
   "name": "python",
   "nbconvert_exporter": "python",
   "pygments_lexer": "ipython3",
   "version": "3.10.6"
  }
 },
 "nbformat": 4,
 "nbformat_minor": 2
}
